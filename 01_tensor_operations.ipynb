{
  "cells": [
    {
      "cell_type": "markdown",
      "metadata": {
        "id": "view-in-github",
        "colab_type": "text"
      },
      "source": [
        "<a href=\"https://colab.research.google.com/github/coder7475/fiveFunctionsOfTorchTensor/blob/main/01_tensor_operations.ipynb\" target=\"_parent\"><img src=\"https://colab.research.google.com/assets/colab-badge.svg\" alt=\"Open In Colab\"/></a>"
      ]
    },
    {
      "cell_type": "markdown",
      "metadata": {
        "id": "YIDlZFUIp_ST"
      },
      "source": [
        "> ### Assignment Instructions (delete this cell before submission)\n",
        "> \n",
        "> The objective of this assignment is to develop a solid understanding of PyTorch tensors. In this assignment you will:\n",
        ">\n",
        "> 1. Pick 5 interesting functions related to PyTorch tensors by [reading the documentation](https://pytorch.org/docs/stable/torch.html), \n",
        "> 2. Edit this starter template notebook to illustrate their usage and publish your notebook to Jovian using `jovian.commit`. Make sure to add proper explanations too, not just code.\n",
        "> 3. Submit the link to your published notebook on Jovian here: https://jovian.ai/learn/deep-learning-with-pytorch-zero-to-gans/assignment/assignment-1-all-about-torch-tensor .\n",
        "> 4. (Optional) Write a blog post on [Medium](https://medium.com) to accompany and showcase your Jupyter notebook. [Embed cells from your notebook](https://medium.com/@aakashns/share-and-embed-jupyter-notebooks-online-with-jovian-ml-df709a03064e) wherever necessary.\n",
        "> 5. (Optional) [Share your work](https://jovian.ai/forum/t/pytorch-functions-and-tensor-operations/13790) with the community and exchange feedback with other participants\n",
        ">\n",
        ">\n",
        "> The recommended way to run this notebook is to click the \"Run\" button at the top of this page, and select \"Run on Colab\". Run `jovian.commit` regularly to save your progress.\n",
        "> \n",
        "> Try to give your notebook an interesting title e.g. \"All about PyTorch tensor operations\", \"5 PyTorch functions you didn't know you needed\", \"A beginner's guide to Autograd in PyToch\", \"Interesting ways to create PyTorch tensors\", \"Trigonometic functions in PyTorch\", \"How to use PyTorch tensors for Linear Algebra\" etc.\n",
        ">\n",
        "> **IMPORTANT NOTE**: Make sure to submit a Jovian notebook link e.g. https://jovian.ai/aakashns/01-tensor-operations . Colab links will not be accepted.\n",
        ">\n",
        "> Remove this cell containing instructions before making a submission or sharing your notebook, to make it more presentable.\n",
        ">\n",
        "\n"
      ]
    },
    {
      "cell_type": "markdown",
      "metadata": {
        "id": "HUCa9vCRp_Sa"
      },
      "source": [
        "# Torch Tesors\n",
        "\n",
        "An short introduction about PyTorch and about the chosen functions. \n",
        "\n",
        "- torch.zeros() : This function creates a tensor filled with zeros of the specified shape.\n",
        "- torch.randn() : This function creates a tensor with random values drawn from a normal deistribution with mean 0 and standard deviation 1.\n",
        "- torch.matmul() : This function performs a matrix multiplication between two tensors.\n",
        "- torch.reshape() : This function reshapes the input tesor to the specified shape.\n",
        "- torch.flatten() : This function flattens the input tensor into a 1D tensor.\n",
        "\n",
        "Before we begin, let's install and import PyTorch"
      ]
    },
    {
      "cell_type": "code",
      "execution_count": 2,
      "metadata": {
        "id": "odAzJsgep_Sd"
      },
      "outputs": [],
      "source": [
        "# Uncomment and run the appropriate command for your operating system, if required\n",
        "\n",
        "# Linux / Binder\n",
        "# !pip install numpy torch==1.7.0+cpu torchvision==0.8.1+cpu torchaudio==0.7.0 -f https://download.pytorch.org/whl/torch_stable.html\n",
        "\n",
        "# Windows\n",
        "# !pip install numpy torch==1.7.0+cpu torchvision==0.8.1+cpu torchaudio==0.7.0 -f https://download.pytorch.org/whl/torch_stable.html\n",
        "\n",
        "# MacOS\n",
        "# !pip install numpy torch torchvision torchaudio"
      ]
    },
    {
      "cell_type": "code",
      "execution_count": 3,
      "metadata": {
        "id": "yzWu11Mqp_Sg"
      },
      "outputs": [],
      "source": [
        "# Import torch and other required modules\n",
        "import torch"
      ]
    },
    {
      "cell_type": "markdown",
      "metadata": {
        "id": "T9J_sIQ4p_Si"
      },
      "source": [
        "## Function 1 - torch.zeros()\n",
        "\n",
        "This function creates a tensor filled with zeros of the specified shape.\n"
      ]
    },
    {
      "cell_type": "code",
      "execution_count": 4,
      "metadata": {
        "colab": {
          "base_uri": "https://localhost:8080/"
        },
        "id": "pUXmqbStp_Sk",
        "outputId": "e259e3ba-a289-4716-c9b8-ae1141a06b8c"
      },
      "outputs": [
        {
          "output_type": "execute_result",
          "data": {
            "text/plain": [
              "tensor([[0., 0., 0., 0., 0.],\n",
              "        [0., 0., 0., 0., 0.],\n",
              "        [0., 0., 0., 0., 0.]])"
            ]
          },
          "metadata": {},
          "execution_count": 4
        }
      ],
      "source": [
        "# Example 1 - working\n",
        "torch.zeros((3, 5))"
      ]
    },
    {
      "cell_type": "markdown",
      "metadata": {
        "id": "v6bcc_fXp_Sm"
      },
      "source": [
        "In example 1, a tensor of shape (3, 5) is created with all elements initialized to zero."
      ]
    },
    {
      "cell_type": "code",
      "execution_count": 5,
      "metadata": {
        "colab": {
          "base_uri": "https://localhost:8080/"
        },
        "id": "pPbA4_iUp_So",
        "outputId": "5d190e0a-03a1-4208-9f73-2e62c38b3006"
      },
      "outputs": [
        {
          "output_type": "execute_result",
          "data": {
            "text/plain": [
              "tensor([[0., 0.],\n",
              "        [0., 0.],\n",
              "        [0., 0.],\n",
              "        [0., 0.]])"
            ]
          },
          "metadata": {},
          "execution_count": 5
        }
      ],
      "source": [
        "# Example 2 - working\n",
        "torch.zeros((4, 2))"
      ]
    },
    {
      "cell_type": "markdown",
      "metadata": {
        "id": "PCktRJQ9p_Sq"
      },
      "source": [
        "In example 2, a tensor of shape (4, 2) is created with all elements initialized to zero."
      ]
    },
    {
      "cell_type": "code",
      "execution_count": 6,
      "metadata": {
        "colab": {
          "base_uri": "https://localhost:8080/",
          "height": 236
        },
        "id": "3e8whxxhp_St",
        "outputId": "ecc69bcd-901c-4751-c5e3-0dc03610438b"
      },
      "outputs": [
        {
          "output_type": "error",
          "ename": "TypeError",
          "evalue": "ignored",
          "traceback": [
            "\u001b[0;31m---------------------------------------------------------------------------\u001b[0m",
            "\u001b[0;31mTypeError\u001b[0m                                 Traceback (most recent call last)",
            "\u001b[0;32m<ipython-input-6-12b5034320a2>\u001b[0m in \u001b[0;36m<cell line: 2>\u001b[0;34m()\u001b[0m\n\u001b[1;32m      1\u001b[0m \u001b[0;31m# Example 3 - breaking (to illustrate when it breaks)\u001b[0m\u001b[0;34m\u001b[0m\u001b[0;34m\u001b[0m\u001b[0m\n\u001b[0;32m----> 2\u001b[0;31m \u001b[0mtorch\u001b[0m\u001b[0;34m.\u001b[0m\u001b[0mzeros\u001b[0m\u001b[0;34m(\u001b[0m\u001b[0;34m)\u001b[0m\u001b[0;34m\u001b[0m\u001b[0;34m\u001b[0m\u001b[0m\n\u001b[0m",
            "\u001b[0;31mTypeError\u001b[0m: zeros() received an invalid combination of arguments - got (), but expected one of:\n * (tuple of ints size, *, tuple of names names, torch.dtype dtype, torch.layout layout, torch.device device, bool pin_memory, bool requires_grad)\n * (tuple of ints size, *, Tensor out, torch.dtype dtype, torch.layout layout, torch.device device, bool pin_memory, bool requires_grad)\n"
          ]
        }
      ],
      "source": [
        "# Example 3 - breaking (to illustrate when it breaks)\n",
        "torch.zeros()"
      ]
    },
    {
      "cell_type": "markdown",
      "metadata": {
        "id": "uUudRmJsp_Sv"
      },
      "source": [
        "Expample 3 trys to fill a empty array with 0 which is why it gives a TypeError."
      ]
    },
    {
      "cell_type": "markdown",
      "metadata": {
        "id": "aurvrXOEp_Sw"
      },
      "source": [
        "This Function is useful in many data science projects when you need to create a tensor of a specific shape initialized with zeros."
      ]
    },
    {
      "cell_type": "markdown",
      "metadata": {
        "id": "Du4wLNVop_Sx"
      },
      "source": [
        "Let's save our work using Jovian before continuing."
      ]
    },
    {
      "cell_type": "markdown",
      "metadata": {
        "id": "7Qg9ePWjp_S2"
      },
      "source": [
        "## Function 2 - torch.randn()\n",
        "\n",
        "This function creates a tensor with random values drawn from a normal distribution with mean 0 and standard deviation 1."
      ]
    },
    {
      "cell_type": "code",
      "execution_count": 7,
      "metadata": {
        "colab": {
          "base_uri": "https://localhost:8080/"
        },
        "id": "odOsKp9Xp_S4",
        "outputId": "623f73d2-7843-466c-8667-33aa5210b35b"
      },
      "outputs": [
        {
          "output_type": "execute_result",
          "data": {
            "text/plain": [
              "tensor([[ 0.2627, -0.3272, -0.0163,  1.7083],\n",
              "        [-0.6777, -0.1015,  0.4302,  1.0329],\n",
              "        [-2.0548, -0.8586, -1.4865, -0.9326],\n",
              "        [ 0.7799,  0.6487,  0.4323,  1.7019]])"
            ]
          },
          "metadata": {},
          "execution_count": 7
        }
      ],
      "source": [
        "# Example 1 - working\n",
        "torch.randn((4, 4))"
      ]
    },
    {
      "cell_type": "markdown",
      "metadata": {
        "id": "BMKW9pyYp_S4"
      },
      "source": [
        "In this example, a tensor shape (4, 4) is created with random values."
      ]
    },
    {
      "cell_type": "code",
      "execution_count": 8,
      "metadata": {
        "colab": {
          "base_uri": "https://localhost:8080/"
        },
        "id": "VFEWdFhGp_S5",
        "outputId": "0e6c8014-09ec-4d15-be67-f5a127f1cb13"
      },
      "outputs": [
        {
          "output_type": "execute_result",
          "data": {
            "text/plain": [
              "tensor([[-1.3583, -0.9506, -0.4950],\n",
              "        [-1.0086,  0.6357,  0.1155],\n",
              "        [ 0.4143,  0.1556, -0.4676],\n",
              "        [-0.7013, -0.3064,  0.0903]])"
            ]
          },
          "metadata": {},
          "execution_count": 8
        }
      ],
      "source": [
        "# Example 2 - working\n",
        "torch.randn((4, 3))"
      ]
    },
    {
      "cell_type": "markdown",
      "metadata": {
        "id": "YhF-8jT3p_S6"
      },
      "source": [
        "Here, a tensor of shpape (4, 3) is created with random values."
      ]
    },
    {
      "cell_type": "code",
      "execution_count": 9,
      "metadata": {
        "colab": {
          "base_uri": "https://localhost:8080/",
          "height": 184
        },
        "id": "WmrlS0hPp_S6",
        "outputId": "cff2aa1a-4361-4c0e-ef61-1dd87169012d"
      },
      "outputs": [
        {
          "output_type": "error",
          "ename": "TypeError",
          "evalue": "ignored",
          "traceback": [
            "\u001b[0;31m---------------------------------------------------------------------------\u001b[0m",
            "\u001b[0;31mTypeError\u001b[0m                                 Traceback (most recent call last)",
            "\u001b[0;32m<ipython-input-9-e03ba837e0d1>\u001b[0m in \u001b[0;36m<cell line: 2>\u001b[0;34m()\u001b[0m\n\u001b[1;32m      1\u001b[0m \u001b[0;31m# Example 3 - breaking (to illustrate when it breaks)\u001b[0m\u001b[0;34m\u001b[0m\u001b[0;34m\u001b[0m\u001b[0m\n\u001b[0;32m----> 2\u001b[0;31m \u001b[0mtorch\u001b[0m\u001b[0;34m.\u001b[0m\u001b[0mrandn\u001b[0m\u001b[0;34m(\u001b[0m\u001b[0;36m1.23\u001b[0m\u001b[0;34m)\u001b[0m\u001b[0;34m\u001b[0m\u001b[0;34m\u001b[0m\u001b[0m\n\u001b[0m",
            "\u001b[0;31mTypeError\u001b[0m: randn(): argument 'size' (position 1) must be tuple of ints, but found element of type float at pos 0"
          ]
        }
      ],
      "source": [
        "# Example 3 - breaking (to illustrate when it breaks)\n",
        "torch.randn(1.23)"
      ]
    },
    {
      "cell_type": "markdown",
      "metadata": {
        "id": "39VAyyK8p_S8"
      },
      "source": [
        "In this example Shape of tesor need to be tuples of ints but given a float value."
      ]
    },
    {
      "cell_type": "markdown",
      "metadata": {
        "id": "AsA8rFimp_S8"
      },
      "source": [
        "This function is often used in deep learning projects for weight initialization and regulization."
      ]
    },
    {
      "cell_type": "markdown",
      "metadata": {
        "id": "CajjLW9Np_S-"
      },
      "source": [
        "## Function 3 - torch.matmul()\n",
        "\n",
        "This function performs matrix multiplication between two tensors."
      ]
    },
    {
      "cell_type": "code",
      "execution_count": 10,
      "metadata": {
        "colab": {
          "base_uri": "https://localhost:8080/"
        },
        "id": "KbAe6WWvp_S_",
        "outputId": "e556f80b-9159-4bf8-890e-0b4b9efefd56"
      },
      "outputs": [
        {
          "output_type": "execute_result",
          "data": {
            "text/plain": [
              "tensor([[-3.3543,  0.3336],\n",
              "        [-1.3575,  6.1866],\n",
              "        [-0.2338,  2.8811],\n",
              "        [ 0.3537, -0.2714]])"
            ]
          },
          "metadata": {},
          "execution_count": 10
        }
      ],
      "source": [
        "# Example 1 - working\n",
        "a = torch.randn((4, 3))\n",
        "b = torch.randn((3, 2))\n",
        "torch.matmul(a, b)"
      ]
    },
    {
      "cell_type": "markdown",
      "metadata": {
        "id": "RpvPTOTFp_TA"
      },
      "source": [
        "In this example two tensors named a and b of shape (4,3) and (3, 2) are multiplied together. The resultant matrix has shape of (4, 2)."
      ]
    },
    {
      "cell_type": "code",
      "execution_count": 11,
      "metadata": {
        "colab": {
          "base_uri": "https://localhost:8080/"
        },
        "id": "SDG1dQ23p_TA",
        "outputId": "a6400c49-a8cf-4e39-c996-4a9074828c37"
      },
      "outputs": [
        {
          "output_type": "execute_result",
          "data": {
            "text/plain": [
              "tensor([-0.9768, -0.2104, -0.0859,  0.9662])"
            ]
          },
          "metadata": {},
          "execution_count": 11
        }
      ],
      "source": [
        "# Example 2 - working\n",
        "a = torch.randn((4,3))# Matrix\n",
        "b = torch.randn(3)    # vector\n",
        "torch.matmul(a, b)"
      ]
    },
    {
      "cell_type": "markdown",
      "metadata": {
        "id": "bLqyRc5Pp_TB"
      },
      "source": [
        "Here the multifplication of a matrix of shape (4,3) and a vector of size 3 results in a vector of size 4."
      ]
    },
    {
      "cell_type": "code",
      "execution_count": 12,
      "metadata": {
        "colab": {
          "base_uri": "https://localhost:8080/",
          "height": 201
        },
        "id": "rnsyn4Vzp_TB",
        "outputId": "5bf2adcb-51d9-4c44-9e06-01c2828b14ed"
      },
      "outputs": [
        {
          "output_type": "error",
          "ename": "RuntimeError",
          "evalue": "ignored",
          "traceback": [
            "\u001b[0;31m---------------------------------------------------------------------------\u001b[0m",
            "\u001b[0;31mRuntimeError\u001b[0m                              Traceback (most recent call last)",
            "\u001b[0;32m<ipython-input-12-a98737feec0d>\u001b[0m in \u001b[0;36m<cell line: 4>\u001b[0;34m()\u001b[0m\n\u001b[1;32m      2\u001b[0m \u001b[0ma\u001b[0m \u001b[0;34m=\u001b[0m \u001b[0mtorch\u001b[0m\u001b[0;34m.\u001b[0m\u001b[0mrandn\u001b[0m\u001b[0;34m(\u001b[0m\u001b[0;34m(\u001b[0m\u001b[0;36m3\u001b[0m\u001b[0;34m,\u001b[0m \u001b[0;36m3\u001b[0m\u001b[0;34m)\u001b[0m\u001b[0;34m)\u001b[0m\u001b[0;34m\u001b[0m\u001b[0;34m\u001b[0m\u001b[0m\n\u001b[1;32m      3\u001b[0m \u001b[0mb\u001b[0m \u001b[0;34m=\u001b[0m \u001b[0mtorch\u001b[0m\u001b[0;34m.\u001b[0m\u001b[0mrandn\u001b[0m\u001b[0;34m(\u001b[0m\u001b[0;34m(\u001b[0m\u001b[0;36m2\u001b[0m\u001b[0;34m,\u001b[0m \u001b[0;36m1\u001b[0m\u001b[0;34m)\u001b[0m\u001b[0;34m)\u001b[0m\u001b[0;34m\u001b[0m\u001b[0;34m\u001b[0m\u001b[0m\n\u001b[0;32m----> 4\u001b[0;31m \u001b[0mtorch\u001b[0m\u001b[0;34m.\u001b[0m\u001b[0mmatmul\u001b[0m\u001b[0;34m(\u001b[0m\u001b[0ma\u001b[0m\u001b[0;34m,\u001b[0m \u001b[0mb\u001b[0m\u001b[0;34m)\u001b[0m\u001b[0;34m\u001b[0m\u001b[0;34m\u001b[0m\u001b[0m\n\u001b[0m",
            "\u001b[0;31mRuntimeError\u001b[0m: mat1 and mat2 shapes cannot be multiplied (3x3 and 2x1)"
          ]
        }
      ],
      "source": [
        "# Example 3 - breaking (to illustrate when it breaks)\n",
        "a = torch.randn((3, 3))\n",
        "b = torch.randn((2, 1))\n",
        "torch.matmul(a, b)"
      ]
    },
    {
      "cell_type": "markdown",
      "metadata": {
        "id": "R2lMY0Bap_TC"
      },
      "source": [
        "Here two matrix of shape (3, 3) and (2, 1) are mutliplied which gives a runtime error because for matrix multiplication the column of first matrix and and row of second matrix must be equal."
      ]
    },
    {
      "cell_type": "markdown",
      "metadata": {
        "id": "tkQvds5up_TC"
      },
      "source": [
        "This function is a powerful and flexible function in PyTorch that is extensively used in deep learning for various operations such as forward and backward propagation, weight and bias updates, convolutional and recurrent neural networks, and more."
      ]
    },
    {
      "cell_type": "markdown",
      "metadata": {
        "id": "Ww1oyy6tp_TE"
      },
      "source": [
        "## Function 4 - torch.reshape()\n",
        "\n",
        "This function reshapes the input tesor to the specified shape."
      ]
    },
    {
      "cell_type": "code",
      "execution_count": 13,
      "metadata": {
        "colab": {
          "base_uri": "https://localhost:8080/"
        },
        "id": "Ecqf2kqNp_TF",
        "outputId": "d2be3a61-9048-4a6c-c1ac-10e21147b71a"
      },
      "outputs": [
        {
          "output_type": "execute_result",
          "data": {
            "text/plain": [
              "tensor([[ 0.1383, -0.3997,  0.1032,  1.1597],\n",
              "        [-0.8116,  0.5966, -1.7798,  0.0667],\n",
              "        [-0.8857,  0.2838, -0.0849,  0.2494]])"
            ]
          },
          "metadata": {},
          "execution_count": 13
        }
      ],
      "source": [
        "# Example 1 - working\n",
        "a = torch.randn((4, 3))\n",
        "torch.reshape(a, (3, -1))"
      ]
    },
    {
      "cell_type": "markdown",
      "metadata": {
        "id": "PX9hE7ezp_TF"
      },
      "source": [
        "In this example, the tensor a is reshaped to have three rows and an unspecified number of column. The -1 value in the shape argument is a placeholder that automatically calculates the size of the dimension based on the other dimensions and the total number of elements in the tensor."
      ]
    },
    {
      "cell_type": "code",
      "source": [
        "# Example 2 - working\n",
        "a = torch.randn((2, 3))\n",
        "torch.reshape(a, (3, 2))"
      ],
      "metadata": {
        "colab": {
          "base_uri": "https://localhost:8080/"
        },
        "id": "zmrOnegwV5RT",
        "outputId": "ea41cbcc-b54b-4942-8432-642a0aedbafd"
      },
      "execution_count": 14,
      "outputs": [
        {
          "output_type": "execute_result",
          "data": {
            "text/plain": [
              "tensor([[-0.9533, -1.4351],\n",
              "        [-0.3352, -0.4955],\n",
              "        [ 1.0287, -1.9411]])"
            ]
          },
          "metadata": {},
          "execution_count": 14
        }
      ]
    },
    {
      "cell_type": "markdown",
      "metadata": {
        "id": "d09I95afp_TH"
      },
      "source": [
        "This example reshapes a matrix of (2, 3) to a matrix of (3, 2)"
      ]
    },
    {
      "cell_type": "code",
      "execution_count": 15,
      "metadata": {
        "colab": {
          "base_uri": "https://localhost:8080/",
          "height": 201
        },
        "id": "QFzMYt7Yp_TI",
        "outputId": "a696a0d5-bad1-4467-b7a8-7b41b4c3c0d3"
      },
      "outputs": [
        {
          "output_type": "error",
          "ename": "TypeError",
          "evalue": "ignored",
          "traceback": [
            "\u001b[0;31m---------------------------------------------------------------------------\u001b[0m",
            "\u001b[0;31mTypeError\u001b[0m                                 Traceback (most recent call last)",
            "\u001b[0;32m<ipython-input-15-fb28be4fd46c>\u001b[0m in \u001b[0;36m<cell line: 3>\u001b[0;34m()\u001b[0m\n\u001b[1;32m      1\u001b[0m \u001b[0;31m# Example 3 - breaking (to illustrate when it breaks)\u001b[0m\u001b[0;34m\u001b[0m\u001b[0;34m\u001b[0m\u001b[0m\n\u001b[1;32m      2\u001b[0m \u001b[0ma\u001b[0m \u001b[0;34m=\u001b[0m \u001b[0mtorch\u001b[0m\u001b[0;34m.\u001b[0m\u001b[0mrand\u001b[0m\u001b[0;34m(\u001b[0m\u001b[0;34m(\u001b[0m\u001b[0;36m2\u001b[0m\u001b[0;34m,\u001b[0m \u001b[0;36m3\u001b[0m\u001b[0;34m)\u001b[0m\u001b[0;34m)\u001b[0m\u001b[0;34m\u001b[0m\u001b[0;34m\u001b[0m\u001b[0m\n\u001b[0;32m----> 3\u001b[0;31m \u001b[0mtorch\u001b[0m\u001b[0;34m.\u001b[0m\u001b[0mreshape\u001b[0m\u001b[0;34m(\u001b[0m\u001b[0;34m(\u001b[0m\u001b[0;36m3\u001b[0m\u001b[0;34m,\u001b[0m \u001b[0;36m3\u001b[0m\u001b[0;34m)\u001b[0m\u001b[0;34m)\u001b[0m\u001b[0;34m\u001b[0m\u001b[0;34m\u001b[0m\u001b[0m\n\u001b[0m",
            "\u001b[0;31mTypeError\u001b[0m: reshape(): argument 'input' (position 1) must be Tensor, not tuple"
          ]
        }
      ],
      "source": [
        "# Example 3 - breaking (to illustrate when it breaks)\n",
        "a = torch.rand((2, 3))\n",
        "torch.reshape((3, 3))"
      ]
    },
    {
      "cell_type": "markdown",
      "metadata": {
        "id": "cHspE0Kmp_TJ"
      },
      "source": [
        "Here, I attempted to create a matrix of shape (3, 3) which contains 9 elements from a matrix of shape (2, 3) which contains 6 elements. So Error is encountered. "
      ]
    },
    {
      "cell_type": "markdown",
      "metadata": {
        "id": "WL9Yq0qWp_TJ"
      },
      "source": [
        "This function is extensively used in deep learning to transform tensors into a desired shape for operations such as convolution, pooling, and fully connected layers, among others."
      ]
    },
    {
      "cell_type": "markdown",
      "metadata": {
        "id": "Ys3Io2LRp_TL"
      },
      "source": [
        "## Function 5 - torch.flatten()\n",
        "\n",
        "This function flattens the input tensor into a 1D tensor."
      ]
    },
    {
      "cell_type": "code",
      "execution_count": 16,
      "metadata": {
        "colab": {
          "base_uri": "https://localhost:8080/"
        },
        "id": "qfLwMj-Mp_TM",
        "outputId": "3372e650-78f4-496b-e6e8-46da7d6a4233"
      },
      "outputs": [
        {
          "output_type": "execute_result",
          "data": {
            "text/plain": [
              "tensor([ 1.0586,  0.2678, -0.1304,  0.9654, -0.5981, -0.0049,  0.9271, -1.3041,\n",
              "        -0.8031,  0.2778,  0.5288, -0.5108])"
            ]
          },
          "metadata": {},
          "execution_count": 16
        }
      ],
      "source": [
        "# Example 1 - working\n",
        "a = torch.randn((4, 3))\n",
        "torch.flatten(a)"
      ]
    },
    {
      "cell_type": "markdown",
      "metadata": {
        "id": "yu7KK1vlp_TO"
      },
      "source": [
        "Here a 2D tensor of shape (4, 3) is flattented into a 1D tensor having 12 elements."
      ]
    },
    {
      "cell_type": "code",
      "execution_count": 20,
      "metadata": {
        "colab": {
          "base_uri": "https://localhost:8080/"
        },
        "id": "qYJXodtDp_TO",
        "outputId": "3c9edbf5-fb98-4a76-d309-20c955846393"
      },
      "outputs": [
        {
          "output_type": "execute_result",
          "data": {
            "text/plain": [
              "tensor([ 1.3269,  2.6867, -0.3765, -1.1772, -1.4655, -0.1247,  0.1677,  0.7923,\n",
              "        -1.6569])"
            ]
          },
          "metadata": {},
          "execution_count": 20
        }
      ],
      "source": [
        "# Example 2 - working\n",
        "a = torch.randn((3, 3))\n",
        "torch.flatten(a, start_dim=0, end_dim=-1)"
      ]
    },
    {
      "cell_type": "markdown",
      "metadata": {
        "id": "s5LYOlpFp_TP"
      },
      "source": [
        "In this example, the tensor a is flattened from the start_dim=0 (the first dimension) to the end_dim=-1 (the last dimension). From a 2D shape (3, 3) to 1D of shape (9)."
      ]
    },
    {
      "cell_type": "code",
      "execution_count": 18,
      "metadata": {
        "colab": {
          "base_uri": "https://localhost:8080/",
          "height": 201
        },
        "id": "ypWRomX1p_TQ",
        "outputId": "cf5933e6-baaa-4695-d8a7-9bfede7581e3"
      },
      "outputs": [
        {
          "output_type": "error",
          "ename": "IndexError",
          "evalue": "ignored",
          "traceback": [
            "\u001b[0;31m---------------------------------------------------------------------------\u001b[0m",
            "\u001b[0;31mIndexError\u001b[0m                                Traceback (most recent call last)",
            "\u001b[0;32m<ipython-input-18-aecf409aa59b>\u001b[0m in \u001b[0;36m<cell line: 3>\u001b[0;34m()\u001b[0m\n\u001b[1;32m      1\u001b[0m \u001b[0;31m# Example 3 - breaking (to illustrate when it breaks)\u001b[0m\u001b[0;34m\u001b[0m\u001b[0;34m\u001b[0m\u001b[0m\n\u001b[1;32m      2\u001b[0m \u001b[0ma\u001b[0m \u001b[0;34m=\u001b[0m \u001b[0mtorch\u001b[0m\u001b[0;34m.\u001b[0m\u001b[0mrandn\u001b[0m\u001b[0;34m(\u001b[0m\u001b[0;34m(\u001b[0m\u001b[0;36m3\u001b[0m\u001b[0;34m,\u001b[0m \u001b[0;36m3\u001b[0m\u001b[0;34m)\u001b[0m\u001b[0;34m)\u001b[0m\u001b[0;34m\u001b[0m\u001b[0;34m\u001b[0m\u001b[0m\n\u001b[0;32m----> 3\u001b[0;31m \u001b[0mtorch\u001b[0m\u001b[0;34m.\u001b[0m\u001b[0mflatten\u001b[0m\u001b[0;34m(\u001b[0m\u001b[0ma\u001b[0m\u001b[0;34m,\u001b[0m \u001b[0mstart_dim\u001b[0m\u001b[0;34m=\u001b[0m\u001b[0;36m3\u001b[0m\u001b[0;34m,\u001b[0m \u001b[0mend_dim\u001b[0m\u001b[0;34m=\u001b[0m\u001b[0;34m-\u001b[0m\u001b[0;36m1\u001b[0m\u001b[0;34m)\u001b[0m\u001b[0;34m\u001b[0m\u001b[0;34m\u001b[0m\u001b[0m\n\u001b[0m",
            "\u001b[0;31mIndexError\u001b[0m: Dimension out of range (expected to be in range of [-2, 1], but got 3)"
          ]
        }
      ],
      "source": [
        "# Example 3 - breaking (to illustrate when it breaks)\n",
        "a = torch.randn((3, 3))\n",
        "torch.flatten(a, start_dim=3, end_dim=-1)"
      ]
    },
    {
      "cell_type": "markdown",
      "metadata": {
        "id": "Ca0nlwUYp_TR"
      },
      "source": [
        "n this example, we attempt to flatten the 2D tensor a with a start_dim argument of 3, which is higher than the tensor's number of dimensions. This results in an IndexError."
      ]
    },
    {
      "cell_type": "markdown",
      "metadata": {
        "id": "8Ox3eR1wp_TS"
      },
      "source": [
        "This function is extensively used in deep learning to convert multi-dimensional tensors into one-dimensional tensors, which can be fed into fully connected layers or other neural network layers that require a flattened input."
      ]
    },
    {
      "cell_type": "markdown",
      "metadata": {
        "id": "AdOmXzWNp_TU"
      },
      "source": [
        "Here is a summary of the PyTorch functions discussed in this notebook:\n",
        "\n",
        "    torch.zeros(): A function that creates a tensor of a specified shape filled with zeros.\n",
        "    torch.randn(): A function that creates a tensor of a specified shape with random values drawn from a normal distribution with mean 0 and standard deviation 1.\n",
        "    torch.matmul(): A function that performs matrix multiplication between two tensors.\n",
        "    torch.reshape(): A function that reshapes a tensor into a new shape without changing its data.\n",
        "    torch.flatten(): A function that flattens a tensor into a one-dimensional tensor.\n",
        "\n",
        "All of these functions are extensively used in deep learning for various operations such as initialization, matrix multiplication, reshaping, and flattening of tensors."
      ]
    },
    {
      "cell_type": "markdown",
      "metadata": {
        "id": "ykqyKJojp_TU"
      },
      "source": [
        "## Reference Links\n",
        "Provide links to your references and other interesting articles about tensors\n",
        "* Official documentation for tensor operations: https://pytorch.org/docs/stable/torch.html\n",
        "* PyTorch tutorials: https://pytorch.org/tutorials/\n",
        "* PyTorch Examples: https://pytorch.org/examples/"
      ]
    }
  ],
  "metadata": {
    "kernelspec": {
      "display_name": "Python 3",
      "language": "python",
      "name": "python3"
    },
    "language_info": {
      "codemirror_mode": {
        "name": "ipython",
        "version": 3
      },
      "file_extension": ".py",
      "mimetype": "text/x-python",
      "name": "python",
      "nbconvert_exporter": "python",
      "pygments_lexer": "ipython3",
      "version": "3.8.5"
    },
    "colab": {
      "provenance": [],
      "include_colab_link": true
    }
  },
  "nbformat": 4,
  "nbformat_minor": 0
}